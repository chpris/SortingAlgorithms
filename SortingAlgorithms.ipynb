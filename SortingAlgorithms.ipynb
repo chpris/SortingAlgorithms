{
 "cells": [
  {
   "cell_type": "markdown",
   "metadata": {},
   "source": [
    "## QUICK SORT ALGORITHM"
   ]
  },
  {
   "cell_type": "code",
   "execution_count": 76,
   "metadata": {},
   "outputs": [
    {
     "name": "stdout",
     "output_type": "stream",
     "text": [
      "[0, 1, 3, 4, 4, 5, 6, 7, 9, 10]\n"
     ]
    }
   ],
   "source": [
    "def quickSort(nums,left,right):\n",
    "    if left>=right:\n",
    "        return\n",
    "    pivot=nums[(right+left)//2]\n",
    "    index=partition(nums,left,right,pivot)\n",
    "    quickSort(nums,left,index-1)\n",
    "    quickSort(nums,index,right)\n",
    "\n",
    "def partition(nums,left,right,pivot):\n",
    "    while left<=right:\n",
    "        while nums[left]<pivot:\n",
    "            left=left+1\n",
    "        while nums[right]>pivot:\n",
    "            right=right-1\n",
    "        if left<=right:\n",
    "            nums[left],nums[right]=nums[right],nums[left]\n",
    "            left=left+1\n",
    "            right=right-1\n",
    "    return left\n",
    "\n",
    "    \n",
    "nums=[10, 3, 5, 6, 1, 9, 0, 4, 4, 7]\n",
    "quickSort(nums,0,len(nums)-1)\n",
    "print(nums)\n",
    "            \n",
    "        \n",
    "        \n",
    "        \n",
    "        "
   ]
  },
  {
   "cell_type": "markdown",
   "metadata": {},
   "source": [
    "## MERGE SORT ALGORITHM"
   ]
  },
  {
   "cell_type": "code",
   "execution_count": 77,
   "metadata": {},
   "outputs": [
    {
     "name": "stdout",
     "output_type": "stream",
     "text": [
      "[0, 1, 3, 4, 5, 5, 5, 5, 6, 9, 10, 13]\n"
     ]
    }
   ],
   "source": [
    "def mergeSort(nums,left,right):\n",
    "    if left>=right:\n",
    "        return\n",
    "    mid=(left+right)//2\n",
    "    mergeSort(nums,left,mid)\n",
    "    mergeSort(nums,mid+1,right)\n",
    "    temp=[]\n",
    "    mergehalf(nums,temp,left,right)\n",
    "\n",
    "def mergehalf(nums,temp,leftstart,rightend):\n",
    "    leftend=(leftstart+rightend)//2\n",
    "    rightstart=leftend+1\n",
    "    left=leftstart\n",
    "    right=rightstart\n",
    "    index=leftstart\n",
    "    while (left<=leftend) and (right<=rightend): \n",
    "        if nums[left]<=nums[right]:\n",
    "            if index < len(temp):\n",
    "                temp[index]=nums[left]\n",
    "            else:\n",
    "                temp.insert(index,nums[left])\n",
    "            left=left+1\n",
    "        else:\n",
    "            if index < len(temp):\n",
    "                temp[index]=nums[right]\n",
    "            else:\n",
    "                temp.insert(index,nums[right])\n",
    "            right=right+1\n",
    "        index=index+1\n",
    "    if left<=leftend:\n",
    "        temp.extend(nums[left:leftend+1])\n",
    "    if right<=rightend:\n",
    "        temp.extend(nums[right:rightend+1])\n",
    "    size=rightend-leftstart+1\n",
    "    nums[leftstart:leftstart+size]=temp[0:size]\n",
    "    \n",
    "\n",
    "nums=[10,5,5,5, 3, 5, 6, 1, 9, 0, 4,13]\n",
    "\n",
    "mergeSort(nums,0,len(nums)-1)\n",
    "print(nums)"
   ]
  },
  {
   "cell_type": "markdown",
   "metadata": {},
   "source": [
    "## INSERTION SORT ALGORITHM"
   ]
  },
  {
   "cell_type": "code",
   "execution_count": 104,
   "metadata": {},
   "outputs": [
    {
     "name": "stdout",
     "output_type": "stream",
     "text": [
      "[0, 1, 3, 4, 5, 5, 6, 9, 10, 13]\n"
     ]
    }
   ],
   "source": [
    "def insertSort(a):\n",
    "    \n",
    "    for i in range(1,len(a)):\n",
    "        j=i\n",
    "        temp=a[i]\n",
    "        \n",
    "        while(j>=1 and a[j-1]>temp):\n",
    "            a[j]=a[j-1]\n",
    "            j=j-1\n",
    "        a[j]=temp\n",
    "        \n",
    "    \n",
    "\n",
    "nums=[10,5, 3, 5, 6, 1, 9, 0, 4,13]\n",
    "\n",
    "insertSort(nums)\n",
    "print(nums)"
   ]
  },
  {
   "cell_type": "markdown",
   "metadata": {},
   "source": [
    "## SELECTION SORT ALGORITHM"
   ]
  },
  {
   "cell_type": "code",
   "execution_count": 130,
   "metadata": {},
   "outputs": [
    {
     "name": "stdout",
     "output_type": "stream",
     "text": [
      "[-10, -10, -10, -10, -10, -10, -10, -10, -10, -10, -3, -3, -3, -3, -3, -3, -3, -3, -3, -3, 0, 0, 0, 0, 0, 0, 0, 0, 0, 0, 0, 0, 0, 0, 0, 0, 0, 0, 0, 0, 2, 2, 2, 2, 2, 2, 2, 2, 2, 2, 4, 4, 4, 4, 4, 4, 4, 4, 4, 4, 12, 12, 12, 12, 12, 12, 12, 12, 12, 12, 13, 13, 13, 13, 13, 13, 13, 13, 13, 13]\n"
     ]
    }
   ],
   "source": [
    "def mini(a):\n",
    "    minimum=a[0]\n",
    "    x=0\n",
    "    for i in range(1,len(a)):\n",
    "        if a[i]<minimum:\n",
    "            minimum,x = a[i],i\n",
    "    return x\n",
    "\n",
    "def selectSort(a):\n",
    "    for i in range(0,len(a)):\n",
    "        ind=mini(a[i:len(a)])\n",
    "        if (ind+i)>(i):\n",
    "            a[i],a[i+ind]=a[i+ind],a[i]\n",
    "    \n",
    "        #print(i+ind,a)\n",
    "        \n",
    "    \n",
    "\n",
    "nums=[4,-10,13,-3,2,0,0,12,4,-10,13,-3,2,0,0,12,4,-10,13,-3,2,0,0,12,4,-10,13,-3,2,0,0,12,4,-10,13,-3,2,0,0,12,4,-10,13,-3,2,0,0,12,4,-10,13,-3,2,0,0,12,4,-10,13,-3,2,0,0,12,4,-10,13,-3,2,0,0,12,4,-10,13,-3,2,0,0,12]\n",
    "\n",
    "selectSort(nums)\n",
    "print(nums)"
   ]
  }
 ],
 "metadata": {
  "kernelspec": {
   "display_name": "Python 3",
   "language": "python",
   "name": "python3"
  },
  "language_info": {
   "codemirror_mode": {
    "name": "ipython",
    "version": 3
   },
   "file_extension": ".py",
   "mimetype": "text/x-python",
   "name": "python",
   "nbconvert_exporter": "python",
   "pygments_lexer": "ipython3",
   "version": "3.6.5"
  }
 },
 "nbformat": 4,
 "nbformat_minor": 2
}
